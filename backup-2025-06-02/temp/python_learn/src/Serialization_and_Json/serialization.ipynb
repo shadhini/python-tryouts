{
 "cells": [
  {
   "cell_type": "markdown",
   "source": [
    "# Serialization\n",
    "Python provides `built-in JSON libraries to encode and decode JSON`.\n",
    "\n",
    "* in Python 2.5, the `simplejson` module is used\n",
    "* in Python 2.7, the `json` module is used\n",
    "\n",
    "2 basic formats for JSON data\n",
    "1. **a string**\n",
    "    * mainly used to pass the data into another program or load into a datastructure\n",
    "2. **object datastructure**: consists of lists and dictionaries nested inside each other\n",
    "    * allows one to use python methods (for lists and dictionaries) to add, list, search and remove elements from the datastructure"
   ],
   "metadata": {
    "collapsed": false
   }
  },
  {
   "cell_type": "code",
   "execution_count": 1,
   "metadata": {
    "collapsed": true
   },
   "outputs": [],
   "source": [
    "import json"
   ]
  },
  {
   "cell_type": "markdown",
   "source": [
    "## loads: string --> json object datastructure"
   ],
   "metadata": {
    "collapsed": false
   }
  },
  {
   "cell_type": "code",
   "execution_count": 3,
   "outputs": [
    {
     "name": "stdout",
     "output_type": "stream",
     "text": [
      "{'name': 'John', 'age': 30, 'car': None}\n"
     ]
    }
   ],
   "source": [
    "json_string = '{\"name\":\"John\", \"age\":30, \"car\":null}'\n",
    "print(json.loads(json_string))"
   ],
   "metadata": {
    "collapsed": false
   }
  },
  {
   "cell_type": "markdown",
   "source": [
    "## dumps: Encode a data structure to JSON\n",
    "takes an object and produces a string"
   ],
   "metadata": {
    "collapsed": false
   }
  },
  {
   "cell_type": "code",
   "execution_count": 4,
   "outputs": [
    {
     "name": "stdout",
     "output_type": "stream",
     "text": [
      "[1, 2, 3, \"a\", \"b\", \"c\"]\n"
     ]
    }
   ],
   "source": [
    "json_string = json.dumps([1, 2, 3, \"a\", \"b\", \"c\"])\n",
    "print(json_string)"
   ],
   "metadata": {
    "collapsed": false
   }
  },
  {
   "cell_type": "markdown",
   "source": [
    "## pickle: Python proprietary data serialization method\n",
    "there's a faster alternative called `cPickle`"
   ],
   "metadata": {
    "collapsed": false
   }
  },
  {
   "cell_type": "code",
   "execution_count": 6,
   "outputs": [
    {
     "name": "stdout",
     "output_type": "stream",
     "text": [
      "b'\\x80\\x04\\x95\\x17\\x00\\x00\\x00\\x00\\x00\\x00\\x00]\\x94(K\\x01K\\x02K\\x03\\x8c\\x01a\\x94\\x8c\\x01b\\x94\\x8c\\x01c\\x94e.'\n",
      "[1, 2, 3, 'a', 'b', 'c']\n"
     ]
    }
   ],
   "source": [
    "import pickle\n",
    "pickled_string = pickle.dumps([1, 2, 3, \"a\", \"b\", \"c\"])\n",
    "print(pickled_string)\n",
    "print(pickle.loads(pickled_string))"
   ],
   "metadata": {
    "collapsed": false
   }
  },
  {
   "cell_type": "code",
   "execution_count": null,
   "outputs": [],
   "source": [],
   "metadata": {
    "collapsed": false
   }
  }
 ],
 "metadata": {
  "kernelspec": {
   "display_name": "Python 3",
   "language": "python",
   "name": "python3"
  },
  "language_info": {
   "codemirror_mode": {
    "name": "ipython",
    "version": 2
   },
   "file_extension": ".py",
   "mimetype": "text/x-python",
   "name": "python",
   "nbconvert_exporter": "python",
   "pygments_lexer": "ipython2",
   "version": "2.7.6"
  }
 },
 "nbformat": 4,
 "nbformat_minor": 0
}
