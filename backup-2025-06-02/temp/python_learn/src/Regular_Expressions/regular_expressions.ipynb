{
 "cells": [
  {
   "cell_type": "markdown",
   "source": [
    "# Regular Expressions\n",
    "Regular Expressions (aka `regexp`, `regex`, or `re`) are a tool for `matching patterns in text`.\n",
    "* In Python, we have the `re` module.\n",
    "* Regex are fairly complex, so when contemplating using a regex for a certain task, think about alternatives, and come to regexes as a `last resort`.\n",
    "\n",
    "E.g:\n",
    "```regexp\n",
    "r\"^(From|To|Cc).*?python-list@python.org\"\n",
    "```\n",
    "* caret `^` --> matches text at the beginning of a line.\n",
    "* `(From|To|Cc)` --> means that the line has to start with one of the words that are separated by the pipe |. `[OR operator]`\n",
    "  * the regex will match if the line starts with any of the words in the group.\n",
    "* `.*?` --> means to un-greedily match any number of characters, except the newline `\\n` character.\n",
    "  * un-greedy part means to match as few repetitions as possible.\n",
    "* `.` --> means any non-newline character\n",
    "* `*` --> means to repeat 0 or more times\n",
    "* `?` --> makes it un-greedy.\n",
    "\n",
    "Following lines would be matched by that regex:\n",
    "```text\n",
    "From: python-list@python.org\n",
    "To: !asp]<,. python-list@python.org\n",
    "```\n",
    "\n",
    "[Python Docs](https://docs.python.org/3/library/re.html#regular-expression-syntax%22RE%20syntax)"
   ],
   "metadata": {
    "collapsed": false
   }
  },
  {
   "cell_type": "markdown",
   "source": [
    "## Example"
   ],
   "metadata": {
    "collapsed": false
   }
  },
  {
   "cell_type": "code",
   "execution_count": 1,
   "metadata": {
    "collapsed": true
   },
   "outputs": [
    {
     "name": "stdout",
     "output_type": "stream",
     "text": [
      "<re.Match object; span=(35, 39), match='[on]'>\n",
      "None\n"
     ]
    }
   ],
   "source": [
    "# Example:\n",
    "import re\n",
    "pattern = re.compile(r\"\\[(on|off)\\]\")\n",
    "# Slight optimization\n",
    "print(re.search(pattern, \"Mono: Playback 65 [75%] [-16.50dB] [on]\"))\n",
    "# Returns a Match object!\n",
    "print(re.search(pattern, \"Nada...:-(\"))\n",
    "# Doesn't return anything."
   ]
  },
  {
   "cell_type": "markdown",
   "source": [
    "## Exercise - Email Pattern"
   ],
   "metadata": {
    "collapsed": false
   }
  },
  {
   "cell_type": "code",
   "execution_count": 3,
   "outputs": [
    {
     "name": "stdout",
     "output_type": "stream",
     "text": [
      "Pass\n",
      "Pass\n",
      "Pass\n"
     ]
    }
   ],
   "source": [
    "# Exercise: make a regular expression that will match an email\n",
    "def test_email(email_pattern):\n",
    "    pattern = re.compile(email_pattern)\n",
    "    emails = [\"john@example.com\", \"python-list@python.org\", \"wha.t.`1an?ug{}ly@email.com\"]\n",
    "    for email in emails:\n",
    "        if not re.match(pattern, email):\n",
    "            print(\"You failed to match %s\" % email)\n",
    "        elif not email_pattern:\n",
    "            print(\"Forgot to enter a pattern!\")\n",
    "        else:\n",
    "            print(\"Pass\")\n",
    "pattern = r\".*?@.*(com|org)\"\n",
    "test_email(pattern)"
   ],
   "metadata": {
    "collapsed": false
   }
  },
  {
   "cell_type": "code",
   "execution_count": null,
   "outputs": [],
   "source": [],
   "metadata": {
    "collapsed": false
   }
  }
 ],
 "metadata": {
  "kernelspec": {
   "display_name": "Python 3",
   "language": "python",
   "name": "python3"
  },
  "language_info": {
   "codemirror_mode": {
    "name": "ipython",
    "version": 2
   },
   "file_extension": ".py",
   "mimetype": "text/x-python",
   "name": "python",
   "nbconvert_exporter": "python",
   "pygments_lexer": "ipython2",
   "version": "2.7.6"
  }
 },
 "nbformat": 4,
 "nbformat_minor": 0
}
