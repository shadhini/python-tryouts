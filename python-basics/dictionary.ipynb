{
 "cells": [
  {
   "cell_type": "markdown",
   "source": [
    "# Dictionary\n",
    "pairs of keys & values | keys are immutable & unique | values can be mutable or immutable | values can be duplicated | unordered & random\n",
    "- you can use any immutable data types as keys: strings, tuples, numbers (floats, integers) ...\n",
    "- values can be any data type\n",
    "- Use `while` loops instead of `for` loops for iterating through conditions until one is false.\n",
    "  - Because with `for` loops, you iterate through all items in a collection, which is not always what you want, whereas `while` loops allow you to check a condition and continue until it is no longer true.\n",
    "- search is O(1) always when searching for a key\n",
    "\n",
    "---\n",
    "for\n",
    "```python\n",
    "for item in someDictionary:\n",
    "    #<code goes here>\n",
    "```\n",
    "while\n",
    "```python\n",
    "while someDictionary:\n",
    "    #<code goes here>\n",
    "```\n",
    "if else\n",
    "```python\n",
    "if key in myDictionary:\n",
    "\t#<do something>\n",
    "else:\n",
    "\t#<do something>\n",
    "```\n",
    "\n",
    "### Operations\n",
    "- `len(dictionary)` - Returns the number of items in a dictionary.\n",
    "- `for key in dictionary` - Iterates over each key in a dictionary.\n",
    "- `for key, value in dictionary.items()` - Iterates over each key,value pair in a dictionary.\n",
    "- `if key in dictionary` - Checks whether a key is in a dictionary.\n",
    "- `dictionary[key]` - Accesses a value using the associated key from a dictionary.\n",
    "- `dictionary[key] = value` - Sets a value associated with a key.\n",
    "- `del dictionary[key]` - Removes a value using the associated key from a dictionary.\n",
    "\n",
    "\n",
    "### Methods\n",
    "- `dictionary.get(key, default)` - Returns the value corresponding to a key, or the default value if the specified key is not present.\n",
    "- `dictionary.keys()` - Returns a sequence containing the keys in a dictionary.\n",
    "- `dictionary.values()` - Returns a sequence containing the values in a dictionary.\n",
    "- `dictionary[key].append(value)` - Appends a new value for an existing key.\n",
    "- `dictionary.update(other_dictionary)` - Updates a dictionary with the items from another dictionary. Existing entries are updated; new entries are added.\n",
    "- `dictionary.clear()` - Deletes all items from a dictionary.\n",
    "- `dictionary.copy()` - Makes a copy of a dictionary"
   ],
   "metadata": {
    "collapsed": false
   }
  },
  {
   "cell_type": "code",
   "execution_count": 11,
   "outputs": [
    {
     "name": "stdout",
     "output_type": "stream",
     "text": [
      "<class 'dict'>\n",
      "<class 'dict'>\n"
     ]
    }
   ],
   "source": [
    "x = {}\n",
    "print(type(x))\n",
    "y = dict()\n",
    "print(type(y))"
   ],
   "metadata": {
    "collapsed": false
   }
  },
  {
   "cell_type": "code",
   "execution_count": 2,
   "outputs": [
    {
     "name": "stdout",
     "output_type": "stream",
     "text": [
      "{'jpg': 10, 'txt': 14, 'csv': 2, 'py': 23}\n"
     ]
    },
    {
     "data": {
      "text/plain": "14"
     },
     "execution_count": 2,
     "metadata": {},
     "output_type": "execute_result"
    }
   ],
   "source": [
    "file_counts = {\"jpg\":10, \"txt\":14, \"csv\":2, \"py\":23}\n",
    "print(file_counts)\n",
    "file_counts[\"txt\"]"
   ],
   "metadata": {
    "collapsed": false
   }
  },
  {
   "cell_type": "code",
   "execution_count": 3,
   "outputs": [
    {
     "name": "stdout",
     "output_type": "stream",
     "text": [
      "True\n",
      "False\n"
     ]
    }
   ],
   "source": [
    "print(\"jpg\" in file_counts)\n",
    "print(\"html\" in file_counts)"
   ],
   "metadata": {
    "collapsed": false
   }
  },
  {
   "cell_type": "code",
   "execution_count": 4,
   "outputs": [
    {
     "name": "stdout",
     "output_type": "stream",
     "text": [
      "{'jpg': 10, 'txt': 14, 'csv': 2, 'py': 23, 'cfg': 8}\n"
     ]
    }
   ],
   "source": [
    "file_counts = {\"jpg\":10, \"txt\":14, \"csv\":2, \"py\":23}\n",
    "file_counts[\"cfg\"] = 8\n",
    "print(file_counts)"
   ],
   "metadata": {
    "collapsed": false
   }
  },
  {
   "cell_type": "code",
   "execution_count": 5,
   "outputs": [
    {
     "name": "stdout",
     "output_type": "stream",
     "text": [
      "{'jpg': 10, 'txt': 14, 'csv': 17, 'py': 23}\n"
     ]
    }
   ],
   "source": [
    "file_counts = {\"jpg\":10, \"txt\":14, \"csv\":2, \"py\":23}\n",
    "file_counts[\"csv\"] = 17\n",
    "print(file_counts)"
   ],
   "metadata": {
    "collapsed": false
   }
  },
  {
   "cell_type": "code",
   "execution_count": 6,
   "outputs": [
    {
     "name": "stdout",
     "output_type": "stream",
     "text": [
      "{'jpg': 10, 'txt': 14, 'csv': 2, 'py': 23}\n"
     ]
    }
   ],
   "source": [
    "file_counts = {\"jpg\":10, \"txt\":14, \"csv\":2, \"py\":23, 'cfg':8}\n",
    "del file_counts[\"cfg\"]\n",
    "print(file_counts)"
   ],
   "metadata": {
    "collapsed": false
   }
  },
  {
   "cell_type": "code",
   "execution_count": 13,
   "outputs": [
    {
     "name": "stdout",
     "output_type": "stream",
     "text": [
      "{'shirt': ['red', 'blue', 'white'], 'jeans': ['white'], 'scarf': ['yellow'], 'socks': ['black', 'brown']}\n"
     ]
    }
   ],
   "source": [
    "wardrobe = {'shirt': ['red', 'blue', 'white'], 'jeans': ['blue', 'black']}\n",
    "new_items = {'jeans': ['white'], 'scarf': ['yellow'], 'socks': ['black', 'brown']}\n",
    "wardrobe.update(new_items)\n",
    "print(wardrobe)"
   ],
   "metadata": {
    "collapsed": false
   }
  },
  {
   "cell_type": "markdown",
   "source": [
    "## Iterating over the contents of a dictionary"
   ],
   "metadata": {
    "collapsed": false
   }
  },
  {
   "cell_type": "code",
   "execution_count": 7,
   "outputs": [
    {
     "name": "stdout",
     "output_type": "stream",
     "text": [
      "jpg\n",
      "txt\n",
      "csv\n",
      "py\n"
     ]
    }
   ],
   "source": [
    "file_counts = {\"jpg\":10, \"txt\":14, \"csv\":2, \"py\":23}\n",
    "for extension in file_counts:\n",
    "  print(extension)"
   ],
   "metadata": {
    "collapsed": false
   }
  },
  {
   "cell_type": "code",
   "execution_count": 8,
   "outputs": [
    {
     "name": "stdout",
     "output_type": "stream",
     "text": [
      "jpg 10\n",
      "txt 14\n",
      "csv 2\n",
      "py 23\n"
     ]
    }
   ],
   "source": [
    "file_counts = {\"jpg\":10, \"txt\":14, \"csv\":2, \"py\":23}\n",
    "for ext, amount in file_counts.items():\n",
    "  print(ext, amount)"
   ],
   "metadata": {
    "collapsed": false
   }
  },
  {
   "cell_type": "code",
   "execution_count": 9,
   "outputs": [
    {
     "name": "stdout",
     "output_type": "stream",
     "text": [
      "dict_keys(['jpg', 'txt', 'csv', 'py'])\n",
      "dict_values([10, 14, 2, 23])\n"
     ]
    }
   ],
   "source": [
    "file_counts = {\"jpg\":10, \"txt\":14, \"csv\":2, \"py\":23}\n",
    "print(file_counts.keys())\n",
    "print(file_counts.values())"
   ],
   "metadata": {
    "collapsed": false
   }
  },
  {
   "cell_type": "code",
   "execution_count": 10,
   "outputs": [
    {
     "name": "stdout",
     "output_type": "stream",
     "text": [
      "10\n",
      "14\n",
      "2\n",
      "23\n"
     ]
    }
   ],
   "source": [
    "file_counts = {\"jpg\":10, \"txt\":14, \"csv\":2, \"py\":23}\n",
    "for value in file_counts.values():\n",
    "  print(value)"
   ],
   "metadata": {
    "collapsed": false
   }
  },
  {
   "cell_type": "code",
   "execution_count": null,
   "outputs": [],
   "source": [],
   "metadata": {
    "collapsed": false
   }
  }
 ],
 "metadata": {
  "kernelspec": {
   "display_name": "Python 3",
   "language": "python",
   "name": "python3"
  },
  "language_info": {
   "codemirror_mode": {
    "name": "ipython",
    "version": 2
   },
   "file_extension": ".py",
   "mimetype": "text/x-python",
   "name": "python",
   "nbconvert_exporter": "python",
   "pygments_lexer": "ipython2",
   "version": "2.7.6"
  }
 },
 "nbformat": 4,
 "nbformat_minor": 0
}
