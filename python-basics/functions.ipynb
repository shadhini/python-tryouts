{
 "cells": [
  {
   "cell_type": "markdown",
   "source": [
    "# Functions"
   ],
   "metadata": {
    "collapsed": false
   }
  },
  {
   "cell_type": "code",
   "execution_count": 2,
   "outputs": [],
   "source": [
    "def to_celsius(x):\n",
    "    '''Convert Fahrenheit to Celsius'''\n",
    "    return (x-32) * 5/9"
   ],
   "metadata": {
    "collapsed": false
   }
  },
  {
   "cell_type": "code",
   "execution_count": 3,
   "outputs": [
    {
     "data": {
      "text/plain": "23.88888888888889"
     },
     "execution_count": 3,
     "metadata": {},
     "output_type": "execute_result"
    }
   ],
   "source": [
    "to_celsius(75)"
   ],
   "metadata": {
    "collapsed": false
   }
  },
  {
   "cell_type": "markdown",
   "source": [
    "## Return a single value"
   ],
   "metadata": {
    "collapsed": false
   }
  },
  {
   "cell_type": "code",
   "execution_count": 4,
   "outputs": [
    {
     "name": "stdout",
     "output_type": "stream",
     "text": [
      "The sum of both areas is: 20.5\n"
     ]
    }
   ],
   "source": [
    "def area_triangle(base, height):\n",
    "    return base*height/2\n",
    "area_a = area_triangle(5,4)\n",
    "area_b = area_triangle(7,3)\n",
    "sum = area_a + area_b\n",
    "print(\"The sum of both areas is: \" + str(sum))"
   ],
   "metadata": {
    "collapsed": false
   }
  },
  {
   "cell_type": "markdown",
   "source": [
    "## Return multiple values"
   ],
   "metadata": {
    "collapsed": false
   }
  },
  {
   "cell_type": "code",
   "execution_count": 5,
   "outputs": [
    {
     "name": "stdout",
     "output_type": "stream",
     "text": [
      "1 23 20\n"
     ]
    }
   ],
   "source": [
    "def convert_seconds(seconds):\n",
    "    hours = seconds // 3600\n",
    "    minutes = (seconds - hours * 3600) // 60\n",
    "    remaining_seconds = seconds - hours * 3600 - minutes * 60\n",
    "    return hours, minutes, remaining_seconds\n",
    "\n",
    "hours, minutes, seconds = convert_seconds(5000)\n",
    "print(hours, minutes, seconds)"
   ],
   "metadata": {
    "collapsed": false
   }
  },
  {
   "cell_type": "markdown",
   "source": [
    "# No block level scope for `if`, `for`, or `while` blocks\n",
    "In Python, variables declared inside a block (like `if`, `for`, or `while`) are accessible outside the block as long as they are declared in the same function or global scope. Python does not have block-level scope for variables in these constructs.\n",
    "\n",
    "But Java has a block level scope for all these constructs."
   ],
   "metadata": {
    "collapsed": false
   }
  },
  {
   "cell_type": "code",
   "execution_count": 6,
   "outputs": [
    {
     "name": "stdout",
     "output_type": "stream",
     "text": [
      "unknown\n"
     ]
    }
   ],
   "source": [
    "def complementary_color(color):\n",
    "    if color == \"blue\":\n",
    "        complement = \"orange\"\n",
    "    elif color == \"yellow\":\n",
    "        complement = \"purple\"\n",
    "    elif color == \"red\":\n",
    "        complement = \"green\"\n",
    "    else:\n",
    "        complement = \"unknown\"\n",
    "    return complement\n",
    "\n",
    "print(complementary_color(\"Blue\")) # Should print unknown\n"
   ],
   "metadata": {
    "collapsed": false
   }
  },
  {
   "cell_type": "code",
   "execution_count": 7,
   "outputs": [],
   "source": [],
   "metadata": {
    "collapsed": false
   }
  }
 ],
 "metadata": {
  "kernelspec": {
   "display_name": "Python 3",
   "language": "python",
   "name": "python3"
  },
  "language_info": {
   "codemirror_mode": {
    "name": "ipython",
    "version": 2
   },
   "file_extension": ".py",
   "mimetype": "text/x-python",
   "name": "python",
   "nbconvert_exporter": "python",
   "pygments_lexer": "ipython2",
   "version": "2.7.6"
  }
 },
 "nbformat": 4,
 "nbformat_minor": 0
}
