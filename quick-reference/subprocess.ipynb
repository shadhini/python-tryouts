{
 "cells": [
  {
   "cell_type": "markdown",
   "source": [
    "# Subprocess\n",
    "\n",
    "`subprocess.run(command, check=True, shell=True)`\n",
    "- Here, `check=True` means that if the command returns a non-zero exit code, an exception(`CalledProcessError`) will be raised.\n",
    "- `shell=True` allows you to run the command through the shell, which is useful for commands that involve shell features\n",
    "    -  The `cd` command and `&&` operator are shell-specific features"
   ],
   "metadata": {
    "collapsed": false
   }
  },
  {
   "cell_type": "code",
   "execution_count": 6,
   "outputs": [
    {
     "data": {
      "text/plain": "CompletedProcess(args=['cd res/output && touch text.txt'], returncode=0)"
     },
     "execution_count": 6,
     "metadata": {},
     "output_type": "execute_result"
    }
   ],
   "source": [
    "import subprocess\n",
    "create_txt_file_cmd = [\"cd res/output && touch text.txt\"]\n",
    "# run command to create a text file\n",
    "subprocess.run(create_txt_file_cmd, check=True, shell=True)"
   ],
   "metadata": {
    "collapsed": false
   }
  },
  {
   "cell_type": "code",
   "execution_count": 11,
   "outputs": [
    {
     "name": "stdout",
     "output_type": "stream",
     "text": [
      "This is a sample text file."
     ]
    },
    {
     "data": {
      "text/plain": "CompletedProcess(args=['cat', 'res/text.txt'], returncode=0)"
     },
     "execution_count": 11,
     "metadata": {},
     "output_type": "execute_result"
    }
   ],
   "source": [
    "create_txt_file_with_sh_cmd = [\"cat\", \"res/text.txt\"]\n",
    "# run command to create a text file\n",
    "subprocess.run(create_txt_file_with_sh_cmd, check=True)"
   ],
   "metadata": {
    "collapsed": false
   }
  },
  {
   "cell_type": "code",
   "execution_count": null,
   "outputs": [],
   "source": [],
   "metadata": {
    "collapsed": false
   }
  }
 ],
 "metadata": {
  "kernelspec": {
   "display_name": "Python 3",
   "language": "python",
   "name": "python3"
  },
  "language_info": {
   "codemirror_mode": {
    "name": "ipython",
    "version": 2
   },
   "file_extension": ".py",
   "mimetype": "text/x-python",
   "name": "python",
   "nbconvert_exporter": "python",
   "pygments_lexer": "ipython2",
   "version": "2.7.6"
  }
 },
 "nbformat": 4,
 "nbformat_minor": 0
}
