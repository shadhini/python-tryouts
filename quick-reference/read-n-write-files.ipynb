{
 "cells": [
  {
   "cell_type": "markdown",
   "source": [
    "# Open & read content from external files & Write to files\n",
    "\n",
    "`with` keyword: heps with resource management, like opening and closing files automatically.\n",
    "`as` keyword: allows you to assign the opened file to a variable, which can be used within the `with` block"
   ],
   "metadata": {
    "collapsed": false
   }
  },
  {
   "cell_type": "code",
   "execution_count": 6,
   "outputs": [
    {
     "name": "stdout",
     "output_type": "stream",
     "text": [
      "/Users/shadhini/PycharmProjects/python-tryouts/quick-reference\n",
      "username,password,real_name\n",
      "amanda,,Amanda Alonso\n",
      "ian,,Ian Ortega\n",
      "eugene,,Eugene Konya\n",
      "jordan,,Jordan Smith\n",
      "lane,,Lane Johnson\n",
      "chris,,Chris Evans"
     ]
    }
   ],
   "source": [
    "from pathlib import Path\n",
    "\n",
    "cwd = Path.cwd()\n",
    "print(cwd)\n",
    "with open(cwd / \"res/csv/new_company_users.csv\", \"r\") as file_input, open(cwd / \"res/output/new_company_users_first_pw.csv\", \"w\") as file_output:\n",
    "    for line in file_input:\n",
    "        file_output.write(line)\n",
    "        print(line, end=\"\")\n"
   ],
   "metadata": {
    "collapsed": false
   }
  },
  {
   "cell_type": "code",
   "execution_count": null,
   "outputs": [],
   "source": [],
   "metadata": {
    "collapsed": false
   }
  }
 ],
 "metadata": {
  "kernelspec": {
   "display_name": "Python 3",
   "language": "python",
   "name": "python3"
  },
  "language_info": {
   "codemirror_mode": {
    "name": "ipython",
    "version": 2
   },
   "file_extension": ".py",
   "mimetype": "text/x-python",
   "name": "python",
   "nbconvert_exporter": "python",
   "pygments_lexer": "ipython2",
   "version": "2.7.6"
  }
 },
 "nbformat": 4,
 "nbformat_minor": 0
}
