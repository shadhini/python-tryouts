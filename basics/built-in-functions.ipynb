{
 "cells": [
  {
   "cell_type": "markdown",
   "source": [
    "# print() Function\n",
    "outputs a specified object to the screen\n",
    "#### Default behaviour:\n",
    "to inset a new line character after the print statement runs\n",
    "#### Override default behaviour:\n",
    "To override the insertion of the new line character and replace it with a space, add `end=\" \"` as the last item in the `print()` parameters."
   ],
   "metadata": {
    "collapsed": false
   }
  },
  {
   "cell_type": "code",
   "execution_count": 1,
   "outputs": [
    {
     "name": "stdout",
     "output_type": "stream",
     "text": [
      "Investigate failed login attempts during September if more than 100\n"
     ]
    }
   ],
   "source": [
    "month = \"September\"\n",
    "print(\"Investigate failed login attempts during\", month, \"if more than\", 100)"
   ],
   "metadata": {
    "collapsed": false
   }
  },
  {
   "cell_type": "code",
   "execution_count": 2,
   "outputs": [
    {
     "name": "stdout",
     "output_type": "stream",
     "text": [
      "0\n",
      "1\n",
      "2\n",
      "3\n",
      "4\n"
     ]
    }
   ],
   "source": [
    "# default behavior\n",
    "for i in range(5):\n",
    "    print(i)"
   ],
   "metadata": {
    "collapsed": false
   }
  },
  {
   "cell_type": "code",
   "execution_count": 3,
   "outputs": [
    {
     "name": "stdout",
     "output_type": "stream",
     "text": [
      "0 1 2 3 4 "
     ]
    }
   ],
   "source": [
    "# override end character with a space\n",
    "for i in range(5):\n",
    "    print(i, end=\" \")"
   ],
   "metadata": {
    "collapsed": false
   }
  },
  {
   "cell_type": "markdown",
   "source": [
    "# type()\n",
    "returns the data type of its argument"
   ],
   "metadata": {
    "collapsed": false
   }
  },
  {
   "cell_type": "code",
   "execution_count": 4,
   "outputs": [
    {
     "name": "stdout",
     "output_type": "stream",
     "text": [
      "<class 'str'>\n"
     ]
    }
   ],
   "source": [
    "print(type(\"This is a string\"))"
   ],
   "metadata": {
    "collapsed": false
   }
  },
  {
   "cell_type": "markdown",
   "source": [
    "# Type Conversion Functions\n",
    "- `str()` - converts a value (often numeric) to a string data type\n",
    "- `int()` - converts a value (usually a float) to an integer data type\n",
    "- `float()` - converts a value (usually an integer) to a float data type"
   ],
   "metadata": {
    "collapsed": false
   }
  },
  {
   "cell_type": "markdown",
   "source": [
    " # sorted()\n",
    "sorts the components of any iterable"
   ],
   "metadata": {
    "collapsed": false
   }
  },
  {
   "cell_type": "code",
   "execution_count": 5,
   "outputs": [
    {
     "name": "stdout",
     "output_type": "stream",
     "text": [
      "[2, 12, 14, 19, 22, 32, 57]\n"
     ]
    }
   ],
   "source": [
    "time_list = [12, 2, 32, 19, 57, 22, 14]\n",
    "print(sorted(time_list))"
   ],
   "metadata": {
    "collapsed": false
   }
  },
  {
   "cell_type": "markdown",
   "source": [
    "# max() and min()\n",
    "works on numeric values or an iterable\n",
    "- `max()` -- returns the largest numeric input passed into it\n",
    "- `min()` -- returns the smallest numeric input passed into it"
   ],
   "metadata": {
    "collapsed": false
   }
  },
  {
   "cell_type": "code",
   "execution_count": 6,
   "outputs": [
    {
     "name": "stdout",
     "output_type": "stream",
     "text": [
      "2\n",
      "57\n"
     ]
    }
   ],
   "source": [
    "time_list = [12, 2, 32, 19, 57, 22, 14]\n",
    "print(min(time_list))\n",
    "print(max(time_list))"
   ],
   "metadata": {
    "collapsed": false
   }
  },
  {
   "cell_type": "code",
   "execution_count": 7,
   "outputs": [
    {
     "name": "stdout",
     "output_type": "stream",
     "text": [
      "apple\n",
      "date\n"
     ]
    }
   ],
   "source": [
    "word_list = [\"apple\", \"banana\", \"cherry\", \"date\"]\n",
    "print(min(word_list))\n",
    "print(max(word_list))"
   ],
   "metadata": {
    "collapsed": false
   }
  },
  {
   "cell_type": "markdown",
   "source": [
    "# round()\n",
    "rounds a number to a specified number of decimal places"
   ],
   "metadata": {
    "collapsed": false
   }
  },
  {
   "cell_type": "code",
   "execution_count": 8,
   "outputs": [
    {
     "name": "stdout",
     "output_type": "stream",
     "text": [
      "3.14\n",
      "3.15\n",
      "3.15\n"
     ]
    }
   ],
   "source": [
    "print(round(3.14159, 2))\n",
    "print(round(3.14559, 2))\n",
    "print(round(3.14959, 2))"
   ],
   "metadata": {
    "collapsed": false
   }
  },
  {
   "cell_type": "code",
   "execution_count": 8,
   "outputs": [],
   "source": [],
   "metadata": {
    "collapsed": false
   }
  }
 ],
 "metadata": {
  "kernelspec": {
   "display_name": "Python 3",
   "language": "python",
   "name": "python3"
  },
  "language_info": {
   "codemirror_mode": {
    "name": "ipython",
    "version": 2
   },
   "file_extension": ".py",
   "mimetype": "text/x-python",
   "name": "python",
   "nbconvert_exporter": "python",
   "pygments_lexer": "ipython2",
   "version": "2.7.6"
  }
 },
 "nbformat": 4,
 "nbformat_minor": 0
}
