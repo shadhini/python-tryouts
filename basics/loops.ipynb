{
 "cells": [
  {
   "cell_type": "markdown",
   "source": [
    "# While Loops\n",
    "initializing the variable used in the loop condition to right value is important"
   ],
   "metadata": {
    "collapsed": false
   }
  },
  {
   "cell_type": "code",
   "execution_count": 81,
   "outputs": [
    {
     "name": "stdout",
     "output_type": "stream",
     "text": [
      "Not there yet, x=0\n",
      "Not there yet, x=1\n",
      "Not there yet, x=2\n",
      "Not there yet, x=3\n",
      "Not there yet, x=4\n",
      "x=5\n"
     ]
    }
   ],
   "source": [
    "x =   0\n",
    "while x < 5:\n",
    "    print(\"Not there yet, x=\" + str(x))\n",
    "    x += 1\n",
    "print(\"x=\" + str(x))"
   ],
   "metadata": {
    "collapsed": false
   }
  },
  {
   "cell_type": "markdown",
   "source": [
    "# Infinite Loops"
   ],
   "metadata": {
    "collapsed": false
   }
  },
  {
   "cell_type": "code",
   "execution_count": 82,
   "outputs": [
    {
     "name": "stdout",
     "output_type": "stream",
     "text": [
      "0\n",
      "0.0\n"
     ]
    }
   ],
   "source": [
    "print(0%2)\n",
    "print(0/2)"
   ],
   "metadata": {
    "collapsed": false
   }
  },
  {
   "cell_type": "code",
   "execution_count": 83,
   "outputs": [
    {
     "name": "stdout",
     "output_type": "stream",
     "text": [
      "x is even, x=16\n",
      "x is even, x=8.0\n",
      "x is even, x=4.0\n",
      "x is even, x=2.0\n"
     ]
    }
   ],
   "source": [
    "x = 16\n",
    "while x % 2 == 0: # cause infinite loop when x is 0 as x/2 is 0 and x%2 is also 0\n",
    "    print(\"x is even, x=\" + str(x))\n",
    "    x = x / 2"
   ],
   "metadata": {
    "collapsed": false
   }
  },
  {
   "cell_type": "code",
   "execution_count": 84,
   "outputs": [],
   "source": [
    "x = 0\n",
    "while x != 0 and x % 2 == 0:\n",
    "    print(\"x is even, x=\" + str(x))\n",
    "    x = x / 2"
   ],
   "metadata": {
    "collapsed": false
   }
  },
  {
   "cell_type": "markdown",
   "source": [
    "# `break` and `pass`\n",
    "- `break`: exits the loop immediately and continues executing the code after the loop; a way to exit out of a loop before the loop's condition is false\n",
    "- `pass`: does nothing; a placeholder statement which is used when the syntax requires a statement, but you don't want to execute any code or command\n",
    "\n",
    "```python\n",
    "while True:\n",
    "    do_something_cool()\n",
    "    if user_Requested_to_stop():\n",
    "        break\n",
    "```"
   ],
   "metadata": {
    "collapsed": false
   }
  },
  {
   "cell_type": "markdown",
   "source": [
    "# For Loops\n",
    "The `range()` function can take up to three parameters:  `range(start, stop, step)`\n",
    "- `start`: the first number in the range (inclusive, default is 0)\n",
    "- `stop`: the last number in the range (exclusive)\n",
    "- `step`: the difference between each number in the range (default is 1)"
   ],
   "metadata": {
    "collapsed": false
   }
  },
  {
   "cell_type": "code",
   "execution_count": 85,
   "outputs": [
    {
     "name": "stdout",
     "output_type": "stream",
     "text": [
      "0\n",
      "1\n",
      "2\n",
      "3\n",
      "4\n"
     ]
    }
   ],
   "source": [
    "for x in range(5): # 0 to 4; 0, 1, 2, 3, 4\n",
    "    print(x)"
   ],
   "metadata": {
    "collapsed": false
   }
  },
  {
   "cell_type": "code",
   "execution_count": 86,
   "outputs": [
    {
     "name": "stdout",
     "output_type": "stream",
     "text": [
      "Hi Taylor\n",
      "Hi Alex\n",
      "Hi Pat\n",
      "Hi Eli\n"
     ]
    }
   ],
   "source": [
    "friends = ['Taylor', 'Alex', 'Pat', 'Eli']\n",
    "for friend in friends:\n",
    "    print(\"Hi \" + friend)"
   ],
   "metadata": {
    "collapsed": false
   }
  },
  {
   "cell_type": "code",
   "execution_count": 87,
   "outputs": [
    {
     "name": "stdout",
     "output_type": "stream",
     "text": [
      "1\n",
      "2\n",
      "3\n",
      "4\n",
      "5\n",
      "6\n",
      "7\n",
      "8\n",
      "9\n",
      "362880\n"
     ]
    }
   ],
   "source": [
    "product = 1\n",
    "for n in range(1,10): # 1 to 9; 1, 2, 3, ..., 9\n",
    "  print(n)\n",
    "  product = product * n\n",
    "\n",
    "print(product)"
   ],
   "metadata": {
    "collapsed": false
   }
  },
  {
   "cell_type": "code",
   "execution_count": 88,
   "outputs": [
    {
     "name": "stdout",
     "output_type": "stream",
     "text": [
      "0 -17.77777777777778\n",
      "10 -12.222222222222221\n",
      "20 -6.666666666666667\n",
      "30 -1.1111111111111112\n",
      "40 4.444444444444445\n",
      "50 10.0\n",
      "60 15.555555555555555\n",
      "70 21.11111111111111\n",
      "80 26.666666666666668\n",
      "90 32.22222222222222\n",
      "100 37.77777777777778\n"
     ]
    }
   ],
   "source": [
    "def to_celsius(x):\n",
    "  return (x-32)*5/9\n",
    "\n",
    "for x in range(0,101,10): # 0 to 100, step 10; 0, 10, 20, 30, ..., 100\n",
    "  print(x, to_celsius(x))"
   ],
   "metadata": {
    "collapsed": false
   }
  },
  {
   "cell_type": "code",
   "execution_count": 89,
   "outputs": [
    {
     "name": "stdout",
     "output_type": "stream",
     "text": [
      "2\n",
      "1\n",
      "0\n",
      "-1\n"
     ]
    }
   ],
   "source": [
    "for x in range(2, -2, -1):\n",
    "    print(x)"
   ],
   "metadata": {
    "collapsed": false
   }
  },
  {
   "cell_type": "markdown",
   "source": [
    "# Nested For Loops"
   ],
   "metadata": {
    "collapsed": false
   }
  },
  {
   "cell_type": "code",
   "execution_count": 90,
   "outputs": [
    {
     "name": "stdout",
     "output_type": "stream",
     "text": [
      "[0|0] [0|1] [0|2] [0|3] [0|4] [0|5] [0|6] \n",
      "[1|1] [1|2] [1|3] [1|4] [1|5] [1|6] \n",
      "[2|2] [2|3] [2|4] [2|5] [2|6] \n",
      "[3|3] [3|4] [3|5] [3|6] \n",
      "[4|4] [4|5] [4|6] \n",
      "[5|5] [5|6] \n",
      "[6|6] \n"
     ]
    }
   ],
   "source": [
    "for left in range(7):\n",
    "  for right in range(left, 7):\n",
    "    print(\"[\" + str(left) + \"|\" + str(right) + \"]\", end=\" \")\n",
    "  print()"
   ],
   "metadata": {
    "collapsed": false
   }
  },
  {
   "cell_type": "markdown",
   "source": [
    "# While Loops vs For Loops\n",
    "\n",
    "**While Loops**: Continuously execute code as long as a condition is true.\n",
    "- They are useful for iterating through data collections, like dictionaries, until a specific condition is met.\n",
    "\n",
    "**For Loops**: Iterate over a sequence (like a list or range) a specific number of times.\n",
    "\n",
    "## Use cases\n",
    "- When searching a collection of data for a value; `while` loops comes in handy.\n",
    "    - Because, `while` loop will iterate through conditions until one comes up False unlike `for` loop, which will iterate through the entire collection(specially a dictionary), one row at a time.\n",
    "- `while` loops can be used more universally when the structure of your data set is more **ambiguous**."
   ],
   "metadata": {
    "collapsed": false
   }
  },
  {
   "cell_type": "code",
   "execution_count": null,
   "outputs": [],
   "source": [],
   "metadata": {
    "collapsed": false
   }
  }
 ],
 "metadata": {
  "kernelspec": {
   "display_name": "Python 3",
   "language": "python",
   "name": "python3"
  },
  "language_info": {
   "codemirror_mode": {
    "name": "ipython",
    "version": 2
   },
   "file_extension": ".py",
   "mimetype": "text/x-python",
   "name": "python",
   "nbconvert_exporter": "python",
   "pygments_lexer": "ipython2",
   "version": "2.7.6"
  }
 },
 "nbformat": 4,
 "nbformat_minor": 0
}
