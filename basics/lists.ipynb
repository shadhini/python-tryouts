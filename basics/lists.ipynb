{
 "cells": [
  {
   "cell_type": "markdown",
   "source": [
    "# Lists\n",
    "sequences of elements of any type | mutable | ordered - sequential | numeric index\n",
    "\n",
    "### Operations\n",
    "- `len(sequence)` - Returns the length of the sequence.\n",
    "- `for element in sequence` - Iterates over each element in the sequence.\n",
    "- `if element in sequence` - Checks whether the element is part of the sequence.\n",
    "- `sequence[x]` - Accesses the element at index [x] of the sequence, starting at zero\n",
    "- `sequence[x:y]` - Accesses a slice starting at index [x], ending at index [y-1]. If [x] is omitted, the index will start at 0 by default. If [y] is omitted, the len(sequence) will set the ending index position by default.\n",
    "- `for index, element in enumerate(sequence)` - Iterates over both the indices and the elements in the sequence at the same time."
   ],
   "metadata": {
    "collapsed": false
   }
  },
  {
   "cell_type": "code",
   "execution_count": 35,
   "outputs": [
    {
     "name": "stdout",
     "output_type": "stream",
     "text": [
      "<class 'list'>\n",
      "<class 'list'>\n"
     ]
    }
   ],
   "source": [
    "x = []\n",
    "print(type(x))\n",
    "y = list()\n",
    "print(type(y))"
   ],
   "metadata": {
    "collapsed": false
   }
  },
  {
   "cell_type": "code",
   "execution_count": 1,
   "outputs": [
    {
     "data": {
      "text/plain": "list"
     },
     "execution_count": 1,
     "metadata": {},
     "output_type": "execute_result"
    }
   ],
   "source": [
    "x = [\"Now\", \"we\", \"are\", \"cooking!\"]\n",
    "type(x)"
   ],
   "metadata": {
    "collapsed": false
   }
  },
  {
   "cell_type": "code",
   "execution_count": 2,
   "outputs": [
    {
     "name": "stdout",
     "output_type": "stream",
     "text": [
      "['Now', 'we', 'are', 'cooking!']\n"
     ]
    }
   ],
   "source": [
    "print(x)"
   ],
   "metadata": {
    "collapsed": false
   }
  },
  {
   "cell_type": "code",
   "execution_count": 3,
   "outputs": [
    {
     "data": {
      "text/plain": "4"
     },
     "execution_count": 3,
     "metadata": {},
     "output_type": "execute_result"
    }
   ],
   "source": [
    "len(x)"
   ],
   "metadata": {
    "collapsed": false
   }
  },
  {
   "cell_type": "code",
   "execution_count": 4,
   "outputs": [
    {
     "data": {
      "text/plain": "True"
     },
     "execution_count": 4,
     "metadata": {},
     "output_type": "execute_result"
    }
   ],
   "source": [
    "\"are\" in x"
   ],
   "metadata": {
    "collapsed": false
   }
  },
  {
   "cell_type": "code",
   "execution_count": 5,
   "outputs": [
    {
     "data": {
      "text/plain": "False"
     },
     "execution_count": 5,
     "metadata": {},
     "output_type": "execute_result"
    }
   ],
   "source": [
    "\"Today\" in x"
   ],
   "metadata": {
    "collapsed": false
   }
  },
  {
   "cell_type": "code",
   "execution_count": 6,
   "outputs": [
    {
     "name": "stdout",
     "output_type": "stream",
     "text": [
      "Now\n",
      "cooking!\n"
     ]
    }
   ],
   "source": [
    "print(x[0])\n",
    "print(x[3])"
   ],
   "metadata": {
    "collapsed": false
   }
  },
  {
   "cell_type": "code",
   "execution_count": 7,
   "outputs": [
    {
     "ename": "IndexError",
     "evalue": "list index out of range",
     "output_type": "error",
     "traceback": [
      "\u001B[0;31m---------------------------------------------------------------------------\u001B[0m",
      "\u001B[0;31mIndexError\u001B[0m                                Traceback (most recent call last)",
      "Cell \u001B[0;32mIn[7], line 1\u001B[0m\n\u001B[0;32m----> 1\u001B[0m \u001B[38;5;28mprint\u001B[39m(\u001B[43mx\u001B[49m\u001B[43m[\u001B[49m\u001B[38;5;241;43m4\u001B[39;49m\u001B[43m]\u001B[49m)\n",
      "\u001B[0;31mIndexError\u001B[0m: list index out of range"
     ]
    }
   ],
   "source": [
    "print(x[4])"
   ],
   "metadata": {
    "collapsed": false
   }
  },
  {
   "cell_type": "code",
   "execution_count": 8,
   "outputs": [
    {
     "data": {
      "text/plain": "['we', 'are']"
     },
     "execution_count": 8,
     "metadata": {},
     "output_type": "execute_result"
    }
   ],
   "source": [
    "x[1:3]"
   ],
   "metadata": {
    "collapsed": false
   }
  },
  {
   "cell_type": "code",
   "execution_count": 9,
   "outputs": [
    {
     "data": {
      "text/plain": "['are', 'cooking!']"
     },
     "execution_count": 9,
     "metadata": {},
     "output_type": "execute_result"
    }
   ],
   "source": [
    "x[2:]"
   ],
   "metadata": {
    "collapsed": false
   }
  },
  {
   "cell_type": "markdown",
   "source": [
    "## Modifying the contents of a list\n",
    "- `list[index] = x` - Replaces the element at index [n] with x.\n",
    "- `list.append(x)` - Appends x to the end of the list.\n",
    "- `list.insert(index, x)` - Inserts x at index position [index].\n",
    "- `list.pop(index)` - Returns the element at [index] and removes it from the list. If [index] position is not in the list, the last element in the list is returned and removed.\n",
    "- `list.remove(x)` - Removes the first occurrence of x in the list.\n",
    "- `list.sort()` - Sorts the items in the list & modifies the original list.\n",
    "- `sorted(list)` - Returns a new sorted list from the items in the list without modifying the original list.\n",
    "- `list.reverse()` - Reverses the order of items of the list.\n",
    "- `list.clear()` - Deletes all items in the list.\n",
    "- `list.copy()` - Creates a copy of the list.\n",
    "- `list.extend(other_list)` - Appends all the elements of other_list at the end of list\n",
    "- `map(function, iterable)` - Applies a given function to each item of an iterable (such as a list) and returns a map object with the results\n",
    "- `zip(*iterables)` - Takes in iterables as arguments and returns an iterator that generates tuples, where the i-th tuple contains the i-th element from each of the argument iterables."
   ],
   "metadata": {
    "collapsed": false
   }
  },
  {
   "cell_type": "code",
   "execution_count": 10,
   "outputs": [
    {
     "name": "stdout",
     "output_type": "stream",
     "text": [
      "['Pineapple', 'Banana', 'Apple', 'Melon', 'Kiwi']\n"
     ]
    }
   ],
   "source": [
    "fruits = [\"Pineapple\", \"Banana\", \"Apple\", \"Melon\"]\n",
    "fruits.append(\"Kiwi\")\n",
    "print(fruits)"
   ],
   "metadata": {
    "collapsed": false
   }
  },
  {
   "cell_type": "code",
   "execution_count": 11,
   "outputs": [
    {
     "name": "stdout",
     "output_type": "stream",
     "text": [
      "['Orange', 'Pineapple', 'Banana', 'Apple', 'Melon']\n"
     ]
    }
   ],
   "source": [
    "fruits = [\"Pineapple\", \"Banana\", \"Apple\", \"Melon\"]\n",
    "fruits.insert(0, \"Orange\")\n",
    "print(fruits)"
   ],
   "metadata": {
    "collapsed": false
   }
  },
  {
   "cell_type": "code",
   "execution_count": 12,
   "outputs": [
    {
     "name": "stdout",
     "output_type": "stream",
     "text": [
      "['Orange', 'Pineapple', 'Banana', 'Apple', 'Melon', 'Peach']\n"
     ]
    }
   ],
   "source": [
    "fruits.insert(25, \"Peach\")\n",
    "print(fruits)"
   ],
   "metadata": {
    "collapsed": false
   }
  },
  {
   "cell_type": "code",
   "execution_count": 13,
   "outputs": [
    {
     "name": "stdout",
     "output_type": "stream",
     "text": [
      "['Pineapple', 'Banana', 'Apple']\n"
     ]
    }
   ],
   "source": [
    "fruits = [\"Pineapple\", \"Banana\", \"Apple\", \"Melon\"]\n",
    "fruits.remove(\"Melon\")\n",
    "print(fruits)"
   ],
   "metadata": {
    "collapsed": false
   }
  },
  {
   "cell_type": "code",
   "execution_count": 14,
   "outputs": [
    {
     "ename": "ValueError",
     "evalue": "list.remove(x): x not in list",
     "output_type": "error",
     "traceback": [
      "\u001B[0;31m---------------------------------------------------------------------------\u001B[0m",
      "\u001B[0;31mValueError\u001B[0m                                Traceback (most recent call last)",
      "Cell \u001B[0;32mIn[14], line 1\u001B[0m\n\u001B[0;32m----> 1\u001B[0m \u001B[43mfruits\u001B[49m\u001B[38;5;241;43m.\u001B[39;49m\u001B[43mremove\u001B[49m\u001B[43m(\u001B[49m\u001B[38;5;124;43m\"\u001B[39;49m\u001B[38;5;124;43mPear\u001B[39;49m\u001B[38;5;124;43m\"\u001B[39;49m\u001B[43m)\u001B[49m\n",
      "\u001B[0;31mValueError\u001B[0m: list.remove(x): x not in list"
     ]
    }
   ],
   "source": [
    "fruits.remove(\"Pear\")"
   ],
   "metadata": {
    "collapsed": false
   }
  },
  {
   "cell_type": "code",
   "execution_count": 15,
   "outputs": [
    {
     "name": "stdout",
     "output_type": "stream",
     "text": [
      "['Orange', 'Pineapple', 'Banana', 'Melon', 'Peach']\n"
     ]
    }
   ],
   "source": [
    "fruits = [\"Orange\", \"Pineapple\", \"Banana\", \"Apple\", \"Melon\", \"Peach\"]\n",
    "fruits.pop(3)\n",
    "print(fruits)"
   ],
   "metadata": {
    "collapsed": false
   }
  },
  {
   "cell_type": "code",
   "execution_count": 16,
   "outputs": [
    {
     "name": "stdout",
     "output_type": "stream",
     "text": [
      "['Orange', 'Pineapple', 'Strawberry', 'Melon', 'Peach']\n"
     ]
    }
   ],
   "source": [
    "fruits[2] = \"Strawberry\"\n",
    "print(fruits)"
   ],
   "metadata": {
    "collapsed": false
   }
  },
  {
   "cell_type": "code",
   "execution_count": 41,
   "outputs": [
    {
     "name": "stdout",
     "output_type": "stream",
     "text": [
      "Event(date=2023-10-01T12:00:00, machine=Machine1, user=UserA, type__=login)\n",
      "Event(date=2023-10-01T12:05:00, machine=Machine2, user=UserB, type__=login)\n",
      "Event(date=2023-10-01T12:10:00, machine=Machine1, user=UserA, type__=logout)\n",
      "Event(date=2023-10-01T12:15:00, machine=Machine3, user=UserC, type__=login)\n",
      "Event(date=2023-10-01T12:20:00, machine=Machine4, user=UserA, type__=login)\n",
      "Event(date=2023-10-01T12:25:00, machine=Machine1, user=UserD, type__=login)\n",
      "Event(date=2023-10-01T12:30:00, machine=Machine5, user=UserE, type__=login)\n",
      "Event(date=2023-10-01T12:35:00, machine=Machine1, user=UserD, type__=logout)\n",
      "Event(date=2023-10-01T12:40:00, machine=Machine2, user=UserB, type__=logout)\n",
      "Event(date=2023-10-01T12:45:00, machine=Machine1, user=UserB, type__=login)\n",
      "Event(date=2023-10-01T12:50:00, machine=Machine3, user=UserC, type__=logout)\n",
      "Event(date=2023-10-01T12:55:00, machine=Machine4, user=UserC, type__=login)\n",
      "Event(date=2023-10-01T13:00:00, machine=Machine1, user=UserB, type__=logout)\n",
      "Event(date=2023-10-01T13:05:00, machine=Machine2, user=UserB, type__=ping)\n",
      "Event(date=2023-10-01T13:10:00, machine=Machine2, user=UserA, type__=shutdown)\n",
      "[None, None, None, None, None, None, None, None, None, None, None, None, None, None, None]\n"
     ]
    }
   ],
   "source": [
    "class Event:\n",
    "    def __init__(self, date: str, machine: str, user: str, type__: str):\n",
    "        self.date = date # when the event happened; Format: YYYY-MM-DDTHH:MM:SS\n",
    "        self.machine = machine # name of the machine where the event occurred\n",
    "        self.user = user # the user involved in the event\n",
    "        self.type__ = type__ # type of the event (e.g: login, logout)\n",
    "\n",
    "    def __str__(self):\n",
    "        return f\"Event(date={self.date}, machine={self.machine}, user={self.user}, type__={self.type__})\"\n",
    "\n",
    "events = [\n",
    "    Event(\"2023-10-01T12:25:00\", \"Machine1\", \"UserD\", \"login\"),\n",
    "    Event(\"2023-10-01T12:55:00\", \"Machine4\", \"UserC\", \"login\"),\n",
    "    Event(\"2023-10-01T12:05:00\", \"Machine2\", \"UserB\", \"login\"),\n",
    "    Event(\"2023-10-01T12:10:00\", \"Machine1\", \"UserA\", \"logout\"),\n",
    "    Event(\"2023-10-01T12:15:00\", \"Machine3\", \"UserC\", \"login\"),\n",
    "    Event(\"2023-10-01T13:00:00\", \"Machine1\", \"UserB\", \"logout\"),\n",
    "    Event(\"2023-10-01T13:10:00\", \"Machine2\", \"UserA\", \"shutdown\"),\n",
    "    Event(\"2023-10-01T12:20:00\", \"Machine4\", \"UserA\", \"login\"),\n",
    "    Event(\"2023-10-01T13:05:00\", \"Machine2\", \"UserB\", \"ping\"),\n",
    "    Event(\"2023-10-01T12:30:00\", \"Machine5\", \"UserE\", \"login\"),\n",
    "    Event(\"2023-10-01T12:40:00\", \"Machine2\", \"UserB\", \"logout\"),\n",
    "    Event(\"2023-10-01T12:50:00\", \"Machine3\", \"UserC\", \"logout\"),\n",
    "    Event(\"2023-10-01T12:35:00\", \"Machine1\", \"UserD\", \"logout\"),\n",
    "    Event(\"2023-10-01T12:45:00\", \"Machine1\", \"UserB\", \"login\"),\n",
    "    Event(\"2023-10-01T12:00:00\", \"Machine1\", \"UserA\", \"login\"),\n",
    "]\n",
    "\n",
    "events.sort(key=lambda event: event.date)\n",
    "print([print(events) for events in events])"
   ],
   "metadata": {
    "collapsed": false
   }
  },
  {
   "cell_type": "markdown",
   "source": [
    "# Iterating over Lists & Tuples\n",
    "Enumeration\n",
    "`for index, element in enumerate(sequence)`"
   ],
   "metadata": {
    "collapsed": false
   }
  },
  {
   "cell_type": "code",
   "execution_count": 17,
   "outputs": [
    {
     "name": "stdout",
     "output_type": "stream",
     "text": [
      "Lion\n",
      "Zebra\n",
      "Dolphin\n",
      "Monkey\n"
     ]
    }
   ],
   "source": [
    "animals = [\"Lion\", \"Zebra\", \"Dolphin\", \"Monkey\"]\n",
    "for animal in animals:\n",
    "  print(animal)"
   ],
   "metadata": {
    "collapsed": false
   }
  },
  {
   "cell_type": "code",
   "execution_count": 18,
   "outputs": [
    {
     "name": "stdout",
     "output_type": "stream",
     "text": [
      "1 - Ashley\n",
      "2 - Dylan\n",
      "3 - Reese\n"
     ]
    }
   ],
   "source": [
    "winners = [\"Ashley\", \"Dylan\", \"Reese\"]\n",
    "for index, person in enumerate(winners):\n",
    "  print(\"{} - {}\".format(index + 1, person))"
   ],
   "metadata": {
    "collapsed": false
   }
  },
  {
   "cell_type": "code",
   "execution_count": 19,
   "outputs": [
    {
     "name": "stdout",
     "output_type": "stream",
     "text": [
      "Alex Diego <alex@example.com>\n",
      "Shay Brandt <shay@example.com>\n"
     ]
    }
   ],
   "source": [
    "people = [(\"alex@example.com\", \"Alex Diego\"), (\"shay@example.com\", \"Shay Brandt\")]\n",
    "for email, name in people:\n",
    "    print(\"{} <{}>\".format(name, email))"
   ],
   "metadata": {
    "collapsed": false
   }
  },
  {
   "cell_type": "markdown",
   "source": [
    "# List Comprehensions\n",
    "\n",
    "* List comprehensions can include conditional statements and nested loops\n",
    "* Use list comprehensions for simple code instead of `for` loops\n",
    "* Use `for` loops for more complex logic\n",
    "\n",
    "`new_list = [do_something(thing) for thing in list_of_things]`\n",
    "\n",
    "`new_list = [do_something(thing) for thing in list_of_things if condition(thing)]`\n"
   ],
   "metadata": {
    "collapsed": false
   }
  },
  {
   "cell_type": "code",
   "execution_count": 20,
   "outputs": [
    {
     "name": "stdout",
     "output_type": "stream",
     "text": [
      "[1, 4, 9, 16, 25]\n"
     ]
    }
   ],
   "source": [
    "numbers = [1, 2, 3, 4, 5]\n",
    "squared_numbers = [x ** 2 for x in numbers]\n",
    "print(squared_numbers)"
   ],
   "metadata": {
    "collapsed": false
   }
  },
  {
   "cell_type": "code",
   "execution_count": 21,
   "outputs": [
    {
     "name": "stdout",
     "output_type": "stream",
     "text": [
      "[0, 2, 4, 6, 8]\n"
     ]
    }
   ],
   "source": [
    "sequence = range(10)\n",
    "new_list = [x for x in sequence if x % 2 == 0]\n",
    "print(new_list)  # List of even numbers"
   ],
   "metadata": {
    "collapsed": false
   }
  },
  {
   "cell_type": "code",
   "execution_count": 22,
   "outputs": [
    {
     "name": "stdout",
     "output_type": "stream",
     "text": [
      "[0, 3, 6, 9, 12, 15, 18, 21, 24, 27, 30, 33, 36, 39, 42, 45, 48, 51, 54, 57, 60, 63, 66, 69, 72, 75, 78, 81, 84, 87, 90, 93, 96, 99]\n"
     ]
    }
   ],
   "source": [
    "z = [x for x in range(0,101) if x % 3 == 0]\n",
    "print(z)"
   ],
   "metadata": {
    "collapsed": false
   }
  },
  {
   "cell_type": "markdown",
   "source": [
    "# Generator functions\n",
    "\n",
    "generator functions\n",
    "- `map()`: map(function, iterables) --> map object (an iterator object of map class)\n",
    "- `zip()`: zip(*iterables) --> iterates through multiple iterables, and aggregates them\n",
    "\n",
    "Looping over multiple strings at once can push the limits of `for` loops. Because of this, it’s important to be aware of other alternatives to simplify a `for` or `while` loop."
   ],
   "metadata": {
    "collapsed": false
   }
  },
  {
   "cell_type": "markdown",
   "source": [
    "### map()"
   ],
   "metadata": {
    "collapsed": false
   }
  },
  {
   "cell_type": "code",
   "execution_count": 23,
   "outputs": [
    {
     "data": {
      "text/plain": "1"
     },
     "execution_count": 23,
     "metadata": {},
     "output_type": "execute_result"
    }
   ],
   "source": [
    "def square(x):\n",
    "    return x*x\n",
    "numbers=[1, 2, 3, 4, 5]\n",
    "sqrs_of_numbers=map(square, numbers)\n",
    "next(sqrs_of_numbers)  # Returns the first squared number"
   ],
   "metadata": {
    "collapsed": false
   }
  },
  {
   "cell_type": "code",
   "execution_count": 24,
   "outputs": [
    {
     "data": {
      "text/plain": "4"
     },
     "execution_count": 24,
     "metadata": {},
     "output_type": "execute_result"
    }
   ],
   "source": [
    "next(sqrs_of_numbers)  # Returns the second squared number"
   ],
   "metadata": {
    "collapsed": false
   }
  },
  {
   "cell_type": "markdown",
   "source": [
    "#### Map with Lambda Expression"
   ],
   "metadata": {
    "collapsed": false
   }
  },
  {
   "cell_type": "code",
   "execution_count": 25,
   "outputs": [
    {
     "data": {
      "text/plain": "1"
     },
     "execution_count": 25,
     "metadata": {},
     "output_type": "execute_result"
    }
   ],
   "source": [
    "sqrs_of_numbers2=map(lambda x:x*x, numbers)\n",
    "next(sqrs_of_numbers2)"
   ],
   "metadata": {
    "collapsed": false
   }
  },
  {
   "cell_type": "code",
   "execution_count": 26,
   "outputs": [
    {
     "data": {
      "text/plain": "4"
     },
     "execution_count": 26,
     "metadata": {},
     "output_type": "execute_result"
    }
   ],
   "source": [
    "next(sqrs_of_numbers2)"
   ],
   "metadata": {
    "collapsed": false
   }
  },
  {
   "cell_type": "markdown",
   "source": [
    "#### Map with Built-in Function"
   ],
   "metadata": {
    "collapsed": false
   }
  },
  {
   "cell_type": "code",
   "execution_count": 27,
   "outputs": [
    {
     "name": "stdout",
     "output_type": "stream",
     "text": [
      "[10, 400, 27000, 2560000, 312500000]\n"
     ]
    }
   ],
   "source": [
    "bases=[10, 20, 30, 40, 50]\n",
    "index=[1, 2, 3, 4, 5]\n",
    "powers=list(map(pow, bases, index))\n",
    "print(powers)"
   ],
   "metadata": {
    "collapsed": false
   }
  },
  {
   "cell_type": "markdown",
   "source": [
    "### zip()"
   ],
   "metadata": {
    "collapsed": false
   }
  },
  {
   "cell_type": "code",
   "execution_count": 28,
   "outputs": [],
   "source": [
    "x = [1,2,3,4]\n",
    "y = [7,8,3,2]\n",
    "z = ['a','b','c','d']"
   ],
   "metadata": {
    "collapsed": false
   }
  },
  {
   "cell_type": "code",
   "execution_count": 29,
   "outputs": [
    {
     "name": "stdout",
     "output_type": "stream",
     "text": [
      "1 7\n",
      "2 8\n",
      "3 3\n",
      "4 2\n"
     ]
    }
   ],
   "source": [
    "for a,b in zip(x,y):\n",
    "    print(a,b)"
   ],
   "metadata": {
    "collapsed": false
   }
  },
  {
   "cell_type": "code",
   "execution_count": 30,
   "outputs": [
    {
     "name": "stdout",
     "output_type": "stream",
     "text": [
      "1 7 a\n",
      "2 8 b\n",
      "3 3 c\n",
      "4 2 d\n"
     ]
    }
   ],
   "source": [
    "for a,b,c in zip(x,y,z):\n",
    "    print(a,b,c)"
   ],
   "metadata": {
    "collapsed": false
   }
  },
  {
   "cell_type": "code",
   "execution_count": 31,
   "outputs": [
    {
     "name": "stdout",
     "output_type": "stream",
     "text": [
      "<zip object at 0x1079a83c0>\n"
     ]
    }
   ],
   "source": [
    "print(zip(x,y,z))"
   ],
   "metadata": {
    "collapsed": false
   }
  },
  {
   "cell_type": "code",
   "execution_count": 32,
   "outputs": [
    {
     "name": "stdout",
     "output_type": "stream",
     "text": [
      "[(1, 7, 'a'), (2, 8, 'b'), (3, 3, 'c'), (4, 2, 'd')]\n"
     ]
    }
   ],
   "source": [
    "print(list(zip(x,y,z)))"
   ],
   "metadata": {
    "collapsed": false
   }
  },
  {
   "cell_type": "code",
   "execution_count": 33,
   "outputs": [
    {
     "name": "stdout",
     "output_type": "stream",
     "text": [
      "1 7 a\n",
      "2 8 b\n",
      "3 3 c\n",
      "4 2 d\n"
     ]
    },
    {
     "data": {
      "text/plain": "[None, None, None, None]"
     },
     "execution_count": 33,
     "metadata": {},
     "output_type": "execute_result"
    }
   ],
   "source": [
    "# with list comprehensions\n",
    "[print(a,b,c) for a,b,c in zip(x,y,z)]"
   ],
   "metadata": {
    "collapsed": false
   }
  },
  {
   "cell_type": "code",
   "execution_count": 34,
   "outputs": [
    {
     "name": "stdout",
     "output_type": "stream",
     "text": [
      "{'Jill': 99, 'Jack': 56, 'Jeb': 24, 'Jessica': 87}\n"
     ]
    }
   ],
   "source": [
    "names = ['Jill','Jack','Jeb','Jessica']\n",
    "grades = [99,56,24,87]\n",
    "\n",
    "d = dict(zip(names,grades))\n",
    "print(d)"
   ],
   "metadata": {
    "collapsed": false
   }
  },
  {
   "cell_type": "code",
   "execution_count": null,
   "outputs": [],
   "source": [],
   "metadata": {
    "collapsed": false
   }
  }
 ],
 "metadata": {
  "kernelspec": {
   "display_name": "Python 3",
   "language": "python",
   "name": "python3"
  },
  "language_info": {
   "codemirror_mode": {
    "name": "ipython",
    "version": 2
   },
   "file_extension": ".py",
   "mimetype": "text/x-python",
   "name": "python",
   "nbconvert_exporter": "python",
   "pygments_lexer": "ipython2",
   "version": "2.7.6"
  }
 },
 "nbformat": 4,
 "nbformat_minor": 0
}
