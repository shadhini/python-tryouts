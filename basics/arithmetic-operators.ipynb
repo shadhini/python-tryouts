{
 "cells": [
  {
   "cell_type": "markdown",
   "source": [
    "# Arithmetic Operators\n",
    "- `x + y`            Addition\n",
    "- `x - y`            Subtraction\n",
    "- `x * y`            Multiplication\n",
    "- `x / y`            Division / —  returns the quotient of x divided by y - gives a float\n",
    "- `x**y`             Exponent ** —  returns the result of raising x to the power of y\n",
    "- `x**2`             Square expression\n",
    "- `x**3`             Cube expression\n",
    "- `x**(1/2)`         Square root (½) of x\n",
    "- `x // y`           Floor division — returns the integer part of the integer division\n",
    "- `x % y`            Modulo —  returns the remainder part of the integer division"
   ],
   "metadata": {
    "collapsed": false
   }
  },
  {
   "cell_type": "markdown",
   "source": [
    "# Order of operations\n",
    "The order of operations are to be calculated from left to right in the following order:\n",
    "\n",
    "- **P**arentheses `( ), { }, [ ]`\n",
    "- **E**xponents   `(x**y)`\n",
    "- **M**ultiplication `*` and **D**ivision `/`\n",
    "- **A**ddition `+` and **S**ubtraction `-`\n",
    "\n",
    "\n",
    "```PEMDAS```"
   ],
   "metadata": {
    "collapsed": false
   }
  },
  {
   "cell_type": "markdown",
   "source": [
    "# ZeroDivisionError"
   ],
   "metadata": {
    "collapsed": false
   }
  },
  {
   "cell_type": "code",
   "execution_count": 2,
   "outputs": [
    {
     "ename": "ZeroDivisionError",
     "evalue": "division by zero",
     "output_type": "error",
     "traceback": [
      "\u001B[0;31m---------------------------------------------------------------------------\u001B[0m",
      "\u001B[0;31mZeroDivisionError\u001B[0m                         Traceback (most recent call last)",
      "Cell \u001B[0;32mIn[2], line 3\u001B[0m\n\u001B[1;32m      1\u001B[0m numerator \u001B[38;5;241m=\u001B[39m \u001B[38;5;241m7\u001B[39m\n\u001B[1;32m      2\u001B[0m denominator \u001B[38;5;241m=\u001B[39m \u001B[38;5;241m0\u001B[39m\n\u001B[0;32m----> 3\u001B[0m result \u001B[38;5;241m=\u001B[39m \u001B[43mnumerator\u001B[49m\u001B[43m \u001B[49m\u001B[38;5;241;43m/\u001B[39;49m\u001B[43m \u001B[49m\u001B[43mdenominator\u001B[49m\n\u001B[1;32m      4\u001B[0m \u001B[38;5;28mprint\u001B[39m(result)\n",
      "\u001B[0;31mZeroDivisionError\u001B[0m: division by zero"
     ]
    }
   ],
   "source": [
    "numerator = 7\n",
    "denominator = 0\n",
    "result = numerator / denominator\n",
    "print(result)"
   ],
   "metadata": {
    "collapsed": false
   }
  },
  {
   "cell_type": "code",
   "execution_count": null,
   "outputs": [],
   "source": [],
   "metadata": {
    "collapsed": false
   }
  }
 ],
 "metadata": {
  "kernelspec": {
   "display_name": "Python 3",
   "language": "python",
   "name": "python3"
  },
  "language_info": {
   "codemirror_mode": {
    "name": "ipython",
    "version": 2
   },
   "file_extension": ".py",
   "mimetype": "text/x-python",
   "name": "python",
   "nbconvert_exporter": "python",
   "pygments_lexer": "ipython2",
   "version": "2.7.6"
  }
 },
 "nbformat": 4,
 "nbformat_minor": 0
}
