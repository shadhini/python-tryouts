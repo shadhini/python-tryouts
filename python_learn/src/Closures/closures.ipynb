{
 "cells": [
  {
   "cell_type": "markdown",
   "source": [
    "# Closures\n",
    "a `function object` that\n",
    "- `remembers values in enclosing scopes` even if they are not present in memory.\n",
    "\n",
    "#### Nested Function\n",
    "a function defined inside another function.\n",
    "* nested functions `can access the variables of the enclosing scope`.\n",
    "* However, at least in python, they are only `readonly`.\n",
    "* However, one can use the `\"nonlocal\"` keyword explicitly with these variables in order `to modify them`."
   ],
   "metadata": {
    "collapsed": false
   }
  },
  {
   "cell_type": "code",
   "execution_count": 4,
   "metadata": {
    "collapsed": true
   },
   "outputs": [
    {
     "name": "stdout",
     "output_type": "stream",
     "text": [
      "@ nested function: Test message\n",
      "@ the end:  None\n"
     ]
    }
   ],
   "source": [
    "def transmit_to_space(message):\n",
    "    \"This is the enclosing function\"\n",
    "    def data_transmitter():\n",
    "        \"The nested function\"\n",
    "        print(\"@ nested function: \" + message)\n",
    "\n",
    "    data_transmitter()\n",
    "\n",
    "print(\"@ the end: \", transmit_to_space(\"Test message\"))"
   ]
  },
  {
   "cell_type": "markdown",
   "source": [
    "This works well as the `'data_transmitter'` function can access the `'message'`."
   ],
   "metadata": {
    "collapsed": false
   }
  },
  {
   "cell_type": "markdown",
   "source": [
    "## use of the \"nonlocal\" keyword"
   ],
   "metadata": {
    "collapsed": false
   }
  },
  {
   "cell_type": "code",
   "execution_count": 10,
   "outputs": [
    {
     "name": "stdout",
     "output_type": "stream",
     "text": [
      "without nonlocal @ nested function:  3\n",
      "without nonlocal @ outside nested function:  9\n",
      "----\n",
      "@ nested function:  3\n",
      "@ outside nested function:  3\n"
     ]
    }
   ],
   "source": [
    "def print_msg_without_nonlocal(number):\n",
    "    def printer():\n",
    "        \"Here we are not using the nonlocal keyword\"\n",
    "        number=3\n",
    "        print(\"without nonlocal @ nested function: \", number)\n",
    "    printer()\n",
    "    print(\"without nonlocal @ outside nested function: \", number)\n",
    "\n",
    "def print_msg(number):\n",
    "    def printer():\n",
    "        \"Here we are using the nonlocal keyword\"\n",
    "        nonlocal number\n",
    "        number=3\n",
    "        print(\"@ nested function: \", number)\n",
    "    printer()\n",
    "    print(\"@ outside nested function: \", number)\n",
    "\n",
    "print_msg_without_nonlocal(9)\n",
    "print(\"----\")\n",
    "print_msg(9)"
   ],
   "metadata": {
    "collapsed": false
   }
  },
  {
   "cell_type": "markdown",
   "source": [
    "## Closure: Return the function object rather than calling the nested function within\n",
    "**Remember**:\n",
    "\n",
    "\n",
    " In Python, even functions are objects."
   ],
   "metadata": {
    "collapsed": false
   }
  },
  {
   "cell_type": "code",
   "execution_count": 14,
   "outputs": [
    {
     "name": "stdout",
     "output_type": "stream",
     "text": [
      "Burn the Sun!\n"
     ]
    }
   ],
   "source": [
    "def transmit_to_space(message):\n",
    "    \"This is the enclosing function\"\n",
    "    def data_transmitter(a):\n",
    "        \"The nested function\"\n",
    "        print(message + a)\n",
    "    return data_transmitter\n",
    "\n",
    "fun2 = transmit_to_space(\"Burn the Sun!\")\n",
    "fun2(\"\")"
   ],
   "metadata": {
    "collapsed": false
   }
  },
  {
   "cell_type": "code",
   "execution_count": 16,
   "outputs": [
    {
     "name": "stdout",
     "output_type": "stream",
     "text": [
      "Burn the Sun! abc\n"
     ]
    }
   ],
   "source": [
    "fun2(\" abc\")"
   ],
   "metadata": {
    "collapsed": false
   }
  },
  {
   "cell_type": "markdown",
   "source": [
    "Even though the execution of the `\"transmit_to_space()\"` was completed, the `message was rather preserved`.\n",
    "\n",
    "This technique by which **the data is attached to some code even after end of those other original functions** is called as `closures` in python"
   ],
   "metadata": {
    "collapsed": false
   }
  },
  {
   "cell_type": "markdown",
   "source": [
    "## Advantages of Closures\n",
    "* can `avoid use of global variables`\n",
    "* provides some form of `data hiding`.\n",
    "  * E.g. When there are few methods in a class, use closures instead.\n",
    "* `Decorators` in Python make **extensive use of closures**."
   ],
   "metadata": {
    "collapsed": false
   }
  },
  {
   "cell_type": "code",
   "execution_count": null,
   "outputs": [],
   "source": [],
   "metadata": {
    "collapsed": false
   }
  }
 ],
 "metadata": {
  "kernelspec": {
   "display_name": "Python 3",
   "language": "python",
   "name": "python3"
  },
  "language_info": {
   "codemirror_mode": {
    "name": "ipython",
    "version": 2
   },
   "file_extension": ".py",
   "mimetype": "text/x-python",
   "name": "python",
   "nbconvert_exporter": "python",
   "pygments_lexer": "ipython2",
   "version": "2.7.6"
  }
 },
 "nbformat": 4,
 "nbformat_minor": 0
}
