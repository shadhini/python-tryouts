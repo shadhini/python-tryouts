{
 "cells": [
  {
   "cell_type": "markdown",
   "source": [
    "# Decorators\n",
    "allow you to `make simple modifications to callable objects` like `functions`, `methods`, or `classes`\n",
    "[Some Decorator Examples](https://wiki.python.org/moin/PythonDecoratorLibrary)"
   ],
   "metadata": {
    "collapsed": false
   }
  },
  {
   "cell_type": "markdown",
   "source": [
    "## Functions\n",
    "a decorator is just another function which takes a functions and returns one"
   ],
   "metadata": {
    "collapsed": false
   }
  },
  {
   "cell_type": "code",
   "execution_count": 1,
   "metadata": {
    "collapsed": true
   },
   "outputs": [
    {
     "name": "stdout",
     "output_type": "stream",
     "text": [
      "\n",
      "--0--\n",
      " This is wrapper function inside decorator with :  argument \n",
      "--1--\n",
      "\n",
      "=========================\n",
      "Function argument:  \n",
      "--2--\n",
      " function argument + argument \n",
      "--3-- \n",
      "========================\n",
      "\n",
      "Result:  None\n"
     ]
    }
   ],
   "source": [
    "# define the decorator function\n",
    "def decorator(function):\n",
    "    def wrapper(arg):\n",
    "        print(\"\\n--0--\\n This is wrapper function inside decorator with : \", arg, \"\\n--1--\")\n",
    "        function(\"\\n--2--\\n function argument + \" + arg + \" \\n--3--\")\n",
    "    return wrapper\n",
    "\n",
    "# Apply the decorator to the function using \"@\" syntax\n",
    "@decorator\n",
    "def function(arg):\n",
    "    print( \"\\n=========================\\nFunction argument: \", arg, \"\\n========================\\n\")\n",
    "\n",
    "# Call the decorated function\n",
    "result = function(\"argument\")\n",
    "\n",
    "print(\"Result: \", result)"
   ]
  },
  {
   "cell_type": "markdown",
   "source": [
    "### E.g: Repeater"
   ],
   "metadata": {
    "collapsed": false
   }
  },
  {
   "cell_type": "code",
   "execution_count": 63,
   "outputs": [
    {
     "name": "stdout",
     "output_type": "stream",
     "text": [
      "6\n",
      "6\n"
     ]
    }
   ],
   "source": [
    "def repeater(old_function):\n",
    "    def new_function(*args, **kwds):\n",
    "        old_function(*args, **kwds) # we run the old function\n",
    "        old_function(*args, **kwds) # we do it twice\n",
    "    return new_function # we have to return the new_function, or it wouldn't reassign it to the value\n",
    "\n",
    "@repeater\n",
    "def multiply(num1, num2):\n",
    "    print(num1 * num2)\n",
    "\n",
    "multiply(2, 3)"
   ],
   "metadata": {
    "collapsed": false
   }
  },
  {
   "cell_type": "markdown",
   "source": [
    "### Change the output via decorator"
   ],
   "metadata": {
    "collapsed": false
   }
  },
  {
   "cell_type": "code",
   "execution_count": 64,
   "outputs": [
    {
     "name": "stdout",
     "output_type": "stream",
     "text": [
      "[1, 2, 3, 1, 2, 3]\n"
     ]
    }
   ],
   "source": [
    "def double_out(old_function):\n",
    "    def new_function(*args, **kwds):\n",
    "        return 2 * old_function(*args, **kwds) # modify the return value\n",
    "    return new_function\n",
    "\n",
    "@double_out\n",
    "def list_twice(lst):\n",
    "    return lst\n",
    "\n",
    "print(list_twice([1, 2, 3]))"
   ],
   "metadata": {
    "collapsed": false
   }
  },
  {
   "cell_type": "markdown",
   "source": [
    "### Change the input via decorator"
   ],
   "metadata": {
    "collapsed": false
   }
  },
  {
   "cell_type": "code",
   "execution_count": 65,
   "outputs": [
    {
     "data": {
      "text/plain": "12"
     },
     "execution_count": 65,
     "metadata": {},
     "output_type": "execute_result"
    }
   ],
   "source": [
    "def double_Ii(old_function):\n",
    "    def new_function(arg): # only works if the old function has one argument\n",
    "        return old_function(arg * 2) # modify the argument passed\n",
    "    return new_function\n",
    "\n",
    "@double_Ii\n",
    "def double_value(value):\n",
    "    return value\n",
    "\n",
    "double_value(6)"
   ],
   "metadata": {
    "collapsed": false
   }
  },
  {
   "cell_type": "markdown",
   "source": [
    "### Do checking via decorator"
   ],
   "metadata": {
    "collapsed": false
   }
  },
  {
   "cell_type": "code",
   "execution_count": 66,
   "outputs": [
    {
     "name": "stdout",
     "output_type": "stream",
     "text": [
      "78  is positive\n",
      "None\n",
      "Caught an exception: Negative Argument\n"
     ]
    }
   ],
   "source": [
    "def check(old_function):\n",
    "    def new_function(arg):\n",
    "        if arg < 0: raise ValueError(\"Negative Argument\") # This causes an error, which is better than it doing the wrong thing\n",
    "        old_function(arg)\n",
    "    return new_function\n",
    "\n",
    "@check\n",
    "def is_positive(value):\n",
    "    print(value, \" is positive\")\n",
    "\n",
    "print(is_positive(78))\n",
    "try:\n",
    "    is_positive(-1)\n",
    "except ValueError as e:\n",
    "    print(\"Caught an exception:\", e)"
   ],
   "metadata": {
    "collapsed": false
   }
  },
  {
   "cell_type": "markdown",
   "source": [
    "### E.g: multiply the output by a variable amount."
   ],
   "metadata": {
    "collapsed": false
   }
  },
  {
   "cell_type": "code",
   "execution_count": 4,
   "outputs": [
    {
     "name": "stdout",
     "output_type": "stream",
     "text": [
      "start @ multiply 3\n",
      "end @ multiply\n",
      "start @ multiply_generator 3 <function return_num at 0x11a24cb80>\n",
      "end @ multiply_generator\n",
      "start&end @ new_function 3 <function return_num at 0x11a24cb80> (5,)\n",
      "start&end @ return_num 5\n"
     ]
    },
    {
     "data": {
      "text/plain": "15"
     },
     "execution_count": 4,
     "metadata": {},
     "output_type": "execute_result"
    }
   ],
   "source": [
    "def multiply(multiplier):\n",
    "    print(\"start @ multiply\", multiplier)\n",
    "    def multiply_generator(old_function):\n",
    "        print(\"start @ multiply_generator\", multiplier, old_function)\n",
    "        def new_function(*args, **kwds):\n",
    "            print(\"start&end @ new_function\", multiplier, old_function, args)\n",
    "            return multiplier * old_function(*args, **kwds)\n",
    "        print(\"end @ multiply_generator\")\n",
    "        return new_function\n",
    "    print(\"end @ multiply\")\n",
    "    return multiply_generator # it returns the new generator\n",
    "\n",
    "@multiply(3) # multiply is not a generator, but multiply(3) is\n",
    "def return_num(num):\n",
    "    print(\"start&end @ return_num\", num)\n",
    "    return num\n",
    "\n",
    "# Now return_num is decorated and reassigned into itself\n",
    "return_num(5)"
   ],
   "metadata": {
    "collapsed": false
   }
  },
  {
   "cell_type": "code",
   "execution_count": null,
   "outputs": [],
   "source": [],
   "metadata": {
    "collapsed": false
   }
  }
 ],
 "metadata": {
  "kernelspec": {
   "display_name": "Python 3",
   "language": "python",
   "name": "python3"
  },
  "language_info": {
   "codemirror_mode": {
    "name": "ipython",
    "version": 2
   },
   "file_extension": ".py",
   "mimetype": "text/x-python",
   "name": "python",
   "nbconvert_exporter": "python",
   "pygments_lexer": "ipython2",
   "version": "2.7.6"
  }
 },
 "nbformat": 4,
 "nbformat_minor": 0
}
