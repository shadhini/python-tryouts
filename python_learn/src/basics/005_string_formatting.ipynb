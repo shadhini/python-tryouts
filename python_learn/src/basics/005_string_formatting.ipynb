{
 "cells": [
  {
   "cell_type": "markdown",
   "source": [
    "# String Formatting\n",
    "\n",
    "- Python uses C-style string formatting to create new, formatted strings.\n",
    "<br />\n",
    "\n",
    "- \"%\" operator:  used to format a set of variables enclosed in a \"tuple\" (a fixed size list),\n",
    "    - together with a format string, which contains normal text\n",
    "    - together with **\"argument specifiers\"**, special symbols like \"%s\" and \"%d\".\n",
    "\n",
    "## Argument specifiers\n",
    "| Argument Specifier    | Description                                                                  |\n",
    "|-----------------------|------------------------------------------------------------------------------|\n",
    "| %s                    | String (or any object with a string representation, like numbers)            |\n",
    "| %d                    | Integers                                                                     |\n",
    "| %f                    | Floating point numbers                                                       |\n",
    "| %.<number of digits>f | Floating point numbers with a fixed amount of digits to the right of the dot |\n",
    "| %x/%X                 | Integers in hex representation (lowercase/uppercase)                         |"
   ],
   "metadata": {
    "collapsed": false
   }
  },
  {
   "cell_type": "code",
   "execution_count": 1,
   "metadata": {
    "collapsed": true
   },
   "outputs": [
    {
     "name": "stdout",
     "output_type": "stream",
     "text": [
      "Hello, John!\n"
     ]
    }
   ],
   "source": [
    "name = \"John\"\n",
    "print(\"Hello, %s!\" % name)"
   ]
  },
  {
   "cell_type": "code",
   "execution_count": 2,
   "outputs": [
    {
     "name": "stdout",
     "output_type": "stream",
     "text": [
      "John is 23 years old.\n"
     ]
    }
   ],
   "source": [
    "name = \"John\"\n",
    "age = 23\n",
    "print(\"%s is %d years old.\" % (name, age))"
   ],
   "metadata": {
    "collapsed": false
   }
  },
  {
   "cell_type": "markdown",
   "source": [
    "Any object which is not a string can be formatted using the `%s` operator as well.\n",
    "- The string which returns from the `\"repr\"` method of that object is formatted as the string"
   ],
   "metadata": {
    "collapsed": false
   }
  },
  {
   "cell_type": "code",
   "execution_count": 3,
   "outputs": [
    {
     "name": "stdout",
     "output_type": "stream",
     "text": [
      "A list: [1, 2, 3]\n"
     ]
    }
   ],
   "source": [
    "mylist = [1,2,3]\n",
    "print(\"A list: %s\" % mylist)"
   ],
   "metadata": {
    "collapsed": false
   }
  },
  {
   "cell_type": "code",
   "execution_count": 4,
   "outputs": [
    {
     "name": "stdout",
     "output_type": "stream",
     "text": [
      "Hello John Doe. Your current balance is $53.44.\n"
     ]
    }
   ],
   "source": [
    "data = (\"John\", \"Doe\", 53.44)\n",
    "format_string = \"Hello %s %s. Your current balance is $%s.\"\n",
    "\n",
    "print(format_string % data)"
   ],
   "metadata": {
    "collapsed": false
   }
  },
  {
   "cell_type": "code",
   "execution_count": null,
   "outputs": [],
   "source": [],
   "metadata": {
    "collapsed": false
   }
  }
 ],
 "metadata": {
  "kernelspec": {
   "display_name": "Python 3",
   "language": "python",
   "name": "python3"
  },
  "language_info": {
   "codemirror_mode": {
    "name": "ipython",
    "version": 2
   },
   "file_extension": ".py",
   "mimetype": "text/x-python",
   "name": "python",
   "nbconvert_exporter": "python",
   "pygments_lexer": "ipython2",
   "version": "2.7.6"
  }
 },
 "nbformat": 4,
 "nbformat_minor": 0
}
