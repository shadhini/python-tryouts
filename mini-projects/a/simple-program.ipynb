{
 "cells": [
  {
   "cell_type": "code",
   "execution_count": 1,
   "metadata": {
    "collapsed": true
   },
   "outputs": [],
   "source": [
    "class Event:\n",
    "    def __init__(self, date: str, machine: str, user: str, type__: str):\n",
    "        self.date = date # when the event happened; Format: YYYY-MM-DDTHH:MM:SS\n",
    "        self.machine = machine # name of the machine where the event occurred\n",
    "        self.user = user # the user involved in the event\n",
    "        self.type__ = type__ # type of the event (e.g: login, logout)\n",
    "\n",
    "    def __str__(self):\n",
    "        return f\"Event(date={self.date}, machine={self.machine}, user={self.user}, type__={self.type__})\""
   ]
  },
  {
   "cell_type": "code",
   "execution_count": 2,
   "outputs": [],
   "source": [
    "events = [\n",
    "    Event(\"2023-10-01T12:25:00\", \"Machine1\", \"UserD\", \"login\"),\n",
    "    Event(\"2023-10-01T12:55:00\", \"Machine4\", \"UserC\", \"login\"),\n",
    "    Event(\"2023-10-01T12:05:00\", \"Machine2\", \"UserB\", \"login\"),\n",
    "    Event(\"2023-10-01T12:10:00\", \"Machine1\", \"UserA\", \"logout\"),\n",
    "    Event(\"2023-10-01T12:15:00\", \"Machine3\", \"UserC\", \"login\"),\n",
    "    Event(\"2023-10-01T13:00:00\", \"Machine1\", \"UserB\", \"logout\"),\n",
    "    Event(\"2023-10-01T13:10:00\", \"Machine2\", \"UserA\", \"shutdown\"),\n",
    "    Event(\"2023-10-01T12:20:00\", \"Machine4\", \"UserA\", \"login\"),\n",
    "    Event(\"2023-10-01T13:05:00\", \"Machine2\", \"UserB\", \"ping\"),\n",
    "    Event(\"2023-10-01T12:30:00\", \"Machine5\", \"UserE\", \"login\"),\n",
    "    Event(\"2023-10-01T12:40:00\", \"Machine2\", \"UserB\", \"logout\"),\n",
    "    Event(\"2023-10-01T12:50:00\", \"Machine3\", \"UserC\", \"logout\"),\n",
    "    Event(\"2023-10-01T12:35:00\", \"Machine1\", \"UserD\", \"logout\"),\n",
    "    Event(\"2023-10-01T12:45:00\", \"Machine1\", \"UserB\", \"login\"),\n",
    "    Event(\"2023-10-01T12:00:00\", \"Machine1\", \"UserA\", \"login\"),\n",
    "]\n",
    "# currently logged in users\n",
    "# current_users = {\n",
    "#     \"Machine1\": [],\n",
    "#     \"Machine2\": [],\n",
    "#     \"Machine3\": [],\n",
    "#     \"Machine4\": [\"UserA\", \"UserC\"],\n",
    "#     \"Machine5\": [\"UserE\"]\n",
    "# }\n"
   ],
   "metadata": {
    "collapsed": false
   }
  },
  {
   "cell_type": "code",
   "execution_count": 3,
   "outputs": [],
   "source": [
    "def get_current_users(events):\n",
    "    events.sort(key=lambda x: x.date)\n",
    "    current_users = {}\n",
    "    for event in events:\n",
    "        if event.machine not in current_users:\n",
    "            current_users[event.machine] = set()\n",
    "        if event.type__ == \"login\":\n",
    "            current_users[event.machine].add(event.user)\n",
    "        elif event.type__ == \"logout\":\n",
    "            if event.user in current_users[event.machine]:\n",
    "                current_users[event.machine].remove(event.user)\n",
    "    return current_users"
   ],
   "metadata": {
    "collapsed": false
   }
  },
  {
   "cell_type": "code",
   "execution_count": 4,
   "outputs": [
    {
     "name": "stdout",
     "output_type": "stream",
     "text": [
      "{'Machine1': set(), 'Machine2': set(), 'Machine3': set(), 'Machine4': {'UserA', 'UserC'}, 'Machine5': {'UserE'}}\n"
     ]
    }
   ],
   "source": [
    "print(get_current_users(events))"
   ],
   "metadata": {
    "collapsed": false
   }
  },
  {
   "cell_type": "code",
   "execution_count": 5,
   "outputs": [],
   "source": [
    "def generate_report(current_users: dict):\n",
    "    for machine, users in current_users.items():\n",
    "        if len(users) > 0:\n",
    "            print(f\"{machine}: {', '.join(users)}\")"
   ],
   "metadata": {
    "collapsed": false
   }
  },
  {
   "cell_type": "code",
   "execution_count": 6,
   "outputs": [
    {
     "name": "stdout",
     "output_type": "stream",
     "text": [
      "Machine4: UserA, UserC\n",
      "Machine5: UserE\n"
     ]
    }
   ],
   "source": [
    "generate_report(get_current_users(events))"
   ],
   "metadata": {
    "collapsed": false
   }
  },
  {
   "cell_type": "code",
   "execution_count": 6,
   "outputs": [],
   "source": [],
   "metadata": {
    "collapsed": false
   }
  }
 ],
 "metadata": {
  "kernelspec": {
   "display_name": "Python 3",
   "language": "python",
   "name": "python3"
  },
  "language_info": {
   "codemirror_mode": {
    "name": "ipython",
    "version": 2
   },
   "file_extension": ".py",
   "mimetype": "text/x-python",
   "name": "python",
   "nbconvert_exporter": "python",
   "pygments_lexer": "ipython2",
   "version": "2.7.6"
  }
 },
 "nbformat": 4,
 "nbformat_minor": 0
}
