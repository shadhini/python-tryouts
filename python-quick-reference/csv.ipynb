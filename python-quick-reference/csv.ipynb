{
 "cells": [
  {
   "cell_type": "markdown",
   "source": [
    "# Working with CSVs\n",
    "`csv.DictReader(file_input)`: each row in the CSV file is read into a dict() with the field names and values"
   ],
   "metadata": {
    "collapsed": false
   }
  },
  {
   "cell_type": "code",
   "execution_count": 4,
   "outputs": [
    {
     "name": "stdout",
     "output_type": "stream",
     "text": [
      "/Users/shadhini/PycharmProjects/python-tryouts/quick-reference\n"
     ]
    }
   ],
   "source": [
    "from pathlib import Path\n",
    "import csv\n",
    "\n",
    "cwd = Path.cwd()\n",
    "print(cwd)\n",
    "with open(cwd / \"res/csv/new_company_users.csv\", \"r\") as file_input, open(cwd / \"res/csv/new_company_users_first_pw.csv\", \"w\") as file_output:\n",
    "    reader = csv.DictReader(file_input)\n",
    "    writer = csv.DictWriter(file_output, fieldnames=reader.fieldnames)\n",
    "    writer.writeheader()\n",
    "    for user in reader:\n",
    "        writer.writerow({\n",
    "            \"username\": user[\"username\"],\n",
    "            \"password\": user[\"password\"],\n",
    "            \"real_name\": user[\"real_name\"]\n",
    "        })\n"
   ],
   "metadata": {
    "collapsed": false
   }
  },
  {
   "cell_type": "code",
   "execution_count": null,
   "outputs": [],
   "source": [],
   "metadata": {
    "collapsed": false
   }
  }
 ],
 "metadata": {
  "kernelspec": {
   "display_name": "Python 3",
   "language": "python",
   "name": "python3"
  },
  "language_info": {
   "codemirror_mode": {
    "name": "ipython",
    "version": 2
   },
   "file_extension": ".py",
   "mimetype": "text/x-python",
   "name": "python",
   "nbconvert_exporter": "python",
   "pygments_lexer": "ipython2",
   "version": "2.7.6"
  }
 },
 "nbformat": 4,
 "nbformat_minor": 0
}
